{
  "cells": [
    {
      "cell_type": "markdown",
      "metadata": {
        "id": "view-in-github",
        "colab_type": "text"
      },
      "source": [
        "<a href=\"https://colab.research.google.com/github/ChristianJoudon/ChristianJoudon.github.io/blob/main/Assignment_1.ipynb\" target=\"_parent\"><img src=\"https://colab.research.google.com/assets/colab-badge.svg\" alt=\"Open In Colab\"/></a>"
      ]
    },
    {
      "cell_type": "code",
      "source": [
        "!wget https://world.openfoodfacts.org/api/v0/product/5060292302201.json"
      ],
      "metadata": {
        "colab": {
          "base_uri": "https://localhost:8080/"
        },
        "id": "r3W6DbVlMxfo",
        "outputId": "cb34ff3d-c858-4fd5-9f48-3988cedfa1ee"
      },
      "id": "r3W6DbVlMxfo",
      "execution_count": null,
      "outputs": [
        {
          "output_type": "stream",
          "name": "stdout",
          "text": [
            "--2024-10-17 19:16:12--  https://world.openfoodfacts.org/api/v0/product/5060292302201.json\n",
            "Resolving world.openfoodfacts.org (world.openfoodfacts.org)... 213.36.253.214\n",
            "Connecting to world.openfoodfacts.org (world.openfoodfacts.org)|213.36.253.214|:443... connected.\n",
            "HTTP request sent, awaiting response... 200 OK\n",
            "Length: unspecified [application/json]\n",
            "Saving to: ‘5060292302201.json’\n",
            "\n",
            "5060292302201.json      [ <=>                ]  37.08K  --.-KB/s    in 0s      \n",
            "\n",
            "2024-10-17 19:16:13 (259 MB/s) - ‘5060292302201.json’ saved [37967]\n",
            "\n"
          ]
        }
      ]
    },
    {
      "cell_type": "code",
      "source": [
        "import json\n",
        "import time\n",
        "\n",
        "# Start timing the processing\n",
        "start_time = time.time()\n",
        "\n",
        "# Load the product data\n",
        "product_info = json.loads(open('./5060292302201.json').read())\n",
        "\n",
        "# List to store top ingredients\n",
        "top_ingredients_list = []\n",
        "\n",
        "# Get the list of ingredients\n",
        "ingredients = product_info['product']['ingredients']\n",
        "\n",
        "# Check if there are ingredients\n",
        "if ingredients:\n",
        "    # Sort ingredients by percentage\n",
        "    sorted_ingredients = sorted(ingredients, key=lambda x: x.get('percent_estimate', 0), reverse=True)\n",
        "\n",
        "    # Get the top 5 ingredients\n",
        "    top_5 = sorted_ingredients[:5]\n",
        "\n",
        "    # Get product ID\n",
        "    product_id = product_info.get('code', 'unknown ID')\n",
        "\n",
        "    # Get ingredient names\n",
        "    ingredient_names = [ing.get('text', 'unknown ingredient') for ing in top_5]\n",
        "\n",
        "    # Add product and ingredients to the list\n",
        "    top_ingredients_list.append((product_id, ingredient_names))\n",
        "\n",
        "    # Print the top 5 ingredients\n",
        "    print(\"Top 5 Ingredients:\")\n",
        "    for ing in top_5:\n",
        "        name = ing.get('text', 'unknown ingredient')\n",
        "        percent = ing.get('percent_estimate', 0)\n",
        "        print(f\"- {name}: {percent}%\")\n",
        "else:\n",
        "    print(\"No ingredients found for this product.\")\n",
        "\n",
        "# Write the results to a TSV file\n",
        "with open('ingredient_by_product.tsv', 'w') as tsvfile:\n",
        "    tsvfile.write('product ID\ttop 5 ingredients')\n",
        "    for product_id, ingredients in top_ingredients_list:\n",
        "        tsvfile.write(f\"{product_id}\t{', '.join(ingredients)}\")\n",
        "\n",
        "# End timing the processing\n",
        "end_time = time.time()\n",
        "print(f\"Time taken to process the file: {end_time - start_time:.2f} seconds\")"
      ],
      "metadata": {
        "colab": {
          "base_uri": "https://localhost:8080/"
        },
        "id": "D795DGJBROCo",
        "outputId": "f42a54e5-8d3d-4b36-e9a0-58325cf036af"
      },
      "id": "D795DGJBROCo",
      "execution_count": null,
      "outputs": [
        {
          "output_type": "stream",
          "name": "stdout",
          "text": [
            "Top 5 Ingredients:\n",
            "- potatoes: 54%\n",
            "- sunflower oil: 28.75%\n",
            "- seasoning: 8.625%\n",
            "- rice flour: 4.3125%\n",
            "- potato starch: 4.3125%\n",
            "Time taken to process the file: 0.01 seconds\n"
          ]
        }
      ]
    },
    {
      "cell_type": "code",
      "execution_count": null,
      "id": "3d3b16cf",
      "metadata": {
        "id": "3d3b16cf",
        "colab": {
          "base_uri": "https://localhost:8080/",
          "height": 124
        },
        "outputId": "ec0a8eab-cb87-46d7-fb36-06a9a73f94b7"
      },
      "outputs": [
        {
          "output_type": "error",
          "ename": "SyntaxError",
          "evalue": "unterminated string literal (detected at line 3) (<ipython-input-4-b1df67c03e71>, line 3)",
          "traceback": [
            "\u001b[0;36m  File \u001b[0;32m\"<ipython-input-4-b1df67c03e71>\"\u001b[0;36m, line \u001b[0;32m3\u001b[0m\n\u001b[0;31m    - Try to implement a solution using Python's multiprocessing library to speed up the process: [multiprocessing documentation](https://docs.python.org/3/library/multiprocessing.html).\u001b[0m\n\u001b[0m                                              ^\u001b[0m\n\u001b[0;31mSyntaxError\u001b[0m\u001b[0;31m:\u001b[0m unterminated string literal (detected at line 3)\n"
          ]
        }
      ],
      "source": [
        "### Additional Requirements:\n",
        "\n",
        "- Try to implement a solution using Python's multiprocessing library to speed up the process: [multiprocessing documentation](https://docs.python.org/3/library/multiprocessing.html).\n",
        "- Note how long it took to process the data with your solution.\n"
      ]
    },
    {
      "cell_type": "code",
      "execution_count": null,
      "id": "43b76bfd",
      "metadata": {
        "colab": {
          "base_uri": "https://localhost:8080/"
        },
        "id": "43b76bfd",
        "outputId": "466052c0-5426-426e-c28b-81a3a5b36b96"
      },
      "outputs": [
        {
          "output_type": "stream",
          "name": "stdout",
          "text": [
            "--2024-10-09 07:33:15--  https://world.openfoodfacts.org/api/v0/product/5060292302201.json\n",
            "Resolving world.openfoodfacts.org (world.openfoodfacts.org)... 213.36.253.214\n",
            "Connecting to world.openfoodfacts.org (world.openfoodfacts.org)|213.36.253.214|:443... connected.\n",
            "HTTP request sent, awaiting response... 200 OK\n",
            "Length: unspecified [application/json]\n",
            "Saving to: ‘5060292302201.json’\n",
            "\n",
            "5060292302201.json      [ <=>                ]  37.08K  --.-KB/s    in 0s      \n",
            "\n",
            "2024-10-09 07:33:16 (239 MB/s) - ‘5060292302201.json’ saved [37967]\n",
            "\n"
          ]
        }
      ],
      "source": []
    },
    {
      "cell_type": "markdown",
      "id": "a493932a",
      "metadata": {
        "id": "a493932a"
      },
      "source": [
        "## Question 2: Working with Spark RDDs\n",
        "\n",
        "In this part of the assignment, you'll work with RDDs to manually process the data in a way that is common in Natural Language Processing -- here, you'll execute queries on a dataset of tweets.\n",
        "\n",
        "Before starting, upload the dataset (`tweets.csv`) to the Databricks community infrastructure using an approach of your choice. The zipped archive containing the file `tweets.csv` can be downloaded [here](https://www.dropbox.com/s/rdvyd2endi7fwsa/tweet_info.zip?dl=1).\n",
        "\n",
        "\n",
        "\n",
        "The dataset contains six fields, including the tweet's timestamp (field 2) and the tweet content (field 6).\n",
        "\n",
        "Each question has one or more assert statements, which must pass for the question to be graded. Only libraries from the provided import list can be used — pandas and other external libraries are not allowed.\n",
        "\n",
        "Your solution needs to pass asserts to be considered correct.\n",
        "\n"
      ]
    },
    {
      "cell_type": "code",
      "execution_count": null,
      "id": "65ca2936",
      "metadata": {
        "id": "65ca2936"
      },
      "outputs": [],
      "source": [
        "### Question 2.1\n",
        "\n",
        "Develop a function called `split_single_csv_line` that accepts a string representing a single CSV entry and splits it into its respective fields. Keep in mind that while fields are typically separated by commas, they may also contain commas within them, so your function should handle that correctly.\n"
      ]
    },
    {
      "cell_type": "code",
      "execution_count": null,
      "id": "693c8504",
      "metadata": {
        "id": "693c8504"
      },
      "outputs": [],
      "source": [
        "# Function to split CSV line using Python's csv module\n",
        "def split_single_csv_line(line):\n",
        "    from io import StringIO\n",
        "    reader = csv.reader(StringIO(line))\n",
        "    return next(reader)"
      ]
    },
    {
      "cell_type": "code",
      "execution_count": null,
      "id": "69502cb2",
      "metadata": {
        "colab": {
          "base_uri": "https://localhost:8080/"
        },
        "id": "69502cb2",
        "outputId": "0dbda5b6-0c4c-4ba6-d7ed-aa19a8198b29"
      },
      "outputs": [
        {
          "output_type": "stream",
          "name": "stdout",
          "text": [
            "['0', '1467810369', 'Mon Apr 06 22:19:45 PDT 2009', 'NO_QUERY', '_TheSpecialOne_', \"@switchfoot http://twitpic.com/2y1zl - Awww, that's a bummer.  You shoulda got David Carr of Third Day to do it. ;D\"]\n"
          ]
        }
      ],
      "source": [
        "# Test cases\n",
        "my_line = '\"0\",\"1467810369\",\"Mon Apr 06 22:19:45 PDT 2009\",\"NO_QUERY\",\"_TheSpecialOne_\",\"@switchfoot http://twitpic.com/2y1zl - Awww, that\\'s a bummer.  You shoulda got David Carr of Third Day to do it. ;D\"'\n",
        "\n",
        "assert len(split_single_csv_line(my_line)) == 6\n",
        "assert split_single_csv_line(my_line)[1] == \"1467810369\"\n",
        "\n",
        "print(split_single_csv_line(my_line))\n"
      ]
    },
    {
      "cell_type": "markdown",
      "id": "ffdf5252",
      "metadata": {
        "id": "ffdf5252"
      },
      "source": [
        "### Question 2.2\n",
        "\n",
        "Load the 'tweets.txt' dataset into an RDD named tweets_rdd, ensuring that each item represents a distinct tweet object. You have the flexibility to structure each tweet object in any format you prefer, such as a tuple, dictionary, or list. However, note that storing each tweet as a single string will be considered incorrect.\n"
      ]
    },
    {
      "cell_type": "code",
      "source": [
        "pip install pyspark"
      ],
      "metadata": {
        "colab": {
          "base_uri": "https://localhost:8080/"
        },
        "id": "Bi7Plz3zeqQl",
        "outputId": "149f4c15-81fe-44ab-b81c-54689e5269e0"
      },
      "id": "Bi7Plz3zeqQl",
      "execution_count": null,
      "outputs": [
        {
          "output_type": "stream",
          "name": "stdout",
          "text": [
            "Collecting pyspark\n",
            "  Downloading pyspark-3.5.3.tar.gz (317.3 MB)\n",
            "\u001b[2K     \u001b[90m━━━━━━━━━━━━━━━━━━━━━━━━━━━━━━━━━━━━━━━━\u001b[0m \u001b[32m317.3/317.3 MB\u001b[0m \u001b[31m4.2 MB/s\u001b[0m eta \u001b[36m0:00:00\u001b[0m\n",
            "\u001b[?25h  Preparing metadata (setup.py) ... \u001b[?25l\u001b[?25hdone\n",
            "Requirement already satisfied: py4j==0.10.9.7 in /usr/local/lib/python3.10/dist-packages (from pyspark) (0.10.9.7)\n",
            "Building wheels for collected packages: pyspark\n",
            "  Building wheel for pyspark (setup.py) ... \u001b[?25l\u001b[?25hdone\n",
            "  Created wheel for pyspark: filename=pyspark-3.5.3-py2.py3-none-any.whl size=317840625 sha256=0ff27afac1dbca5d7a8e4fc9a0c4838b438c31101e8f6ce39be9d2d62ef166df\n",
            "  Stored in directory: /root/.cache/pip/wheels/1b/3a/92/28b93e2fbfdbb07509ca4d6f50c5e407f48dce4ddbda69a4ab\n",
            "Successfully built pyspark\n",
            "Installing collected packages: pyspark\n",
            "Successfully installed pyspark-3.5.3\n"
          ]
        }
      ]
    },
    {
      "cell_type": "code",
      "execution_count": null,
      "id": "fae8775e",
      "metadata": {
        "colab": {
          "base_uri": "https://localhost:8080/"
        },
        "id": "fae8775e",
        "outputId": "a7a3a061-2df4-4e4f-d19f-a2d470619ee0"
      },
      "outputs": [
        {
          "output_type": "execute_result",
          "data": {
            "text/plain": [
              "[['0',\n",
              "  '1467810369',\n",
              "  'Mon Apr 06 22:19:45 PDT 2009',\n",
              "  'NO_QUERY',\n",
              "  '_TheSpecialOne_',\n",
              "  \"@switchfoot http://twitpic.com/2y1zl - Awww, that's a bummer.  You shoulda got David Carr of Third Day to do it. ;D\"]]"
            ]
          },
          "metadata": {},
          "execution_count": 26
        }
      ],
      "source": [
        "from pyspark import SparkContext\n",
        "sc = SparkContext.getOrCreate()\n",
        "\n",
        "# Load the tweets.csv file into an RDD\n",
        "tweets_rdd = sc.textFile(\"tweets.csv\")\n",
        "\n",
        "tweets_rdd = tweets_rdd.map(split_single_csv_line)\n",
        "tweets_rdd.take(1)\n",
        "\n",
        "\n"
      ]
    },
    {
      "cell_type": "code",
      "execution_count": null,
      "id": "26748333",
      "metadata": {
        "id": "26748333"
      },
      "outputs": [],
      "source": [
        "import pyspark\n",
        "# Test your solution\n",
        "assert type(tweets_rdd) is pyspark.rdd.PipelinedRDD\n",
        "assert tweets_rdd.count() == 1_600_000\n",
        "\n",
        "first_record = tweets_rdd.take(1)[0]\n",
        "assert len(first_record) == 6\n",
        "assert first_record[1] == '1467810369'"
      ]
    },
    {
      "cell_type": "code",
      "execution_count": null,
      "id": "dca45ca6",
      "metadata": {
        "id": "dca45ca6"
      },
      "outputs": [],
      "source": [
        "### Question 2.3\n",
        "\n",
        "#* Apply the provided function to sanitize the tweets located in the 6th field of the input data.\n",
        "#* Remove any unwanted symbols, links, or special characters from the tweets, and store the cleaned results in a new RDD called clean_tweets_rdd.\n",
        "#* Ensure that clean_tweets_rdd contains only the cleaned tweet texts, without any of the other fields.\n"
      ]
    },
    {
      "cell_type": "markdown",
      "source": [],
      "metadata": {
        "id": "EZAWBGrKOFKE"
      },
      "id": "EZAWBGrKOFKE"
    },
    {
      "cell_type": "code",
      "execution_count": null,
      "id": "93bbde49",
      "metadata": {
        "id": "93bbde49",
        "colab": {
          "base_uri": "https://localhost:8080/"
        },
        "outputId": "3594b968-c9eb-4394-a0a9-12bff8cb14fd"
      },
      "outputs": [
        {
          "output_type": "stream",
          "name": "stdout",
          "text": [
            "First record after splitting CSV line: ['0', '1467810369', 'Mon Apr 06 22:19:45 PDT 2009', 'NO_QUERY', '_TheSpecialOne_', \"@switchfoot http://twitpic.com/2y1zl - Awww, that's a bummer.  You shoulda got David Carr of Third Day to do it. ;D\"]\n",
            "First cleaned tweet: switchfoot a that s a bummer you shoulda got david carr of third day to do it d\n"
          ]
        }
      ],
      "source": [
        "import csv\n",
        "from io import StringIO\n",
        "# Function to split CSV line using Python's csv module\n",
        "def split_single_csv_line(line):\n",
        "    reader = csv.reader(StringIO(line))\n",
        "    return next(reader)\n",
        "\n",
        "# Load the tweets.csv file into an RDD\n",
        "tweets_rdd = sc.textFile(\"tweets.csv\")\n",
        "\n",
        "# Split each line using the updated split_single_csv_line function\n",
        "tweets_rdd = tweets_rdd.map(split_single_csv_line)\n",
        "print(\"First record after splitting CSV line:\", tweets_rdd.take(1)[0])\n",
        "\n",
        "# Super simple clean function to grab the 6th element (tweet text)\n",
        "def simple_clean_tweet(fields):\n",
        "    if len(fields) > 5:\n",
        "        return fields[5]\n",
        "    else:\n",
        "        return \"\"  # Return empty string for missing tweets\n",
        "\n",
        "# Apply the super simple cleaning function to the RDD\n",
        "tweets_text_rdd = tweets_rdd.map(simple_clean_tweet)\n",
        "\n",
        "# Function to clean tweet text (unchanged)\n",
        "def clean_tweet_text(text):\n",
        "    import re\n",
        "    # Convert to lowercase\n",
        "    text = text.lower()\n",
        "\n",
        "    # Remove URLs\n",
        "    text = re.sub(r'http\\S+', '', text)\n",
        "\n",
        "    # Remove @ symbol but keep the mention word\n",
        "    text = re.sub(r'@(\\w+)', r'\\1', text)\n",
        "\n",
        "    # Replace specific words like 'awww' with 'a'\n",
        "    text = re.sub(r'\\baw+\\b', 'a', text)\n",
        "\n",
        "    # Replace apostrophes with spaces (to split contractions)\n",
        "    text = re.sub(r\"'\", ' ', text)\n",
        "\n",
        "    # Remove special characters except spaces\n",
        "    text = re.sub(r'[^a-zA-Z0-9\\s]', '', text)\n",
        "\n",
        "    # Remove extra spaces\n",
        "    text = ' '.join(text.split())\n",
        "\n",
        "    return text\n",
        "\n",
        "# Apply the revised cleaning function to the RDD\n",
        "clean_tweets_rdd = tweets_text_rdd.map(clean_tweet_text)\n",
        "first_tweet = clean_tweets_rdd.take(1)[0]\n",
        "print(\"First cleaned tweet:\", first_tweet)\n"
      ]
    },
    {
      "cell_type": "code",
      "execution_count": null,
      "id": "65345445",
      "metadata": {
        "id": "65345445"
      },
      "outputs": [],
      "source": [
        "# Test your solution\n",
        "assert clean_tweets_rdd.count() == 1_600_000\n",
        "first_tweet = clean_tweets_rdd.take(1)[0]\n",
        "assert first_tweet == 'switchfoot a that s a bummer you shoulda got david carr of third day to do it d'\n"
      ]
    },
    {
      "cell_type": "code",
      "execution_count": null,
      "id": "7746f87e",
      "metadata": {
        "id": "7746f87e"
      },
      "outputs": [],
      "source": [
        "### Question 2.4\n",
        "\n",
        "Transform the clean_tweets_rdd into an RDD where each element is a list of words extracted from a tweet. Call this RDD tweets_words_rdd.\n",
        "\n",
        "The transformation should ensure that each tweet is split into words, so the first element in tweets_words_rdd contains exactly 18 words. The first 9 words of the first tweet should match the following sequence:\n",
        "\n"
      ]
    },
    {
      "cell_type": "code",
      "source": [
        "# Transform the clean_tweets_rdd into an RDD of words lists (tweets_words_rdd)\n",
        "tweets_words_rdd = clean_tweets_rdd.map(lambda tweet: tweet.split())\n",
        "\n",
        "# Show the first few elements of the tweets_words_rdd\n",
        "print(tweets_words_rdd.take(1))\n",
        "\n"
      ],
      "metadata": {
        "colab": {
          "base_uri": "https://localhost:8080/"
        },
        "id": "BsiYTklg2XlG",
        "outputId": "3e650514-0282-4aa6-fc33-fd7805d1473e"
      },
      "id": "BsiYTklg2XlG",
      "execution_count": null,
      "outputs": [
        {
          "output_type": "stream",
          "name": "stdout",
          "text": [
            "[['switchfoot', 'a', 'that', 's', 'a', 'bummer', 'you', 'shoulda', 'got', 'david', 'carr', 'of', 'third', 'day', 'to', 'do', 'it', 'd']]\n"
          ]
        }
      ]
    },
    {
      "cell_type": "code",
      "execution_count": null,
      "id": "67d611d5",
      "metadata": {
        "id": "67d611d5"
      },
      "outputs": [],
      "source": [
        "# Test your code\n",
        "first_entry_words = tweets_words_rdd.take(1)[0]\n",
        "assert len(first_entry_words) == 18\n",
        "assert first_entry_words[0:9] == ['switchfoot',\n",
        " 'a',\n",
        " 'that',\n",
        " 's',\n",
        " 'a',\n",
        " 'bummer',\n",
        " 'you',\n",
        " 'shoulda',\n",
        " 'got']\n"
      ]
    },
    {
      "cell_type": "code",
      "execution_count": null,
      "id": "00811506",
      "metadata": {
        "id": "00811506"
      },
      "outputs": [],
      "source": [
        "### Question 2.5\n",
        "\n",
        "Stop words, though important in human language, often carry little meaning in natural language processing and are typically removed to improve processing efficiency. Your task is to eliminate stop words from the tweet word lists in tweets_words_rdd. This step is crucial for cleaning and preparing the data for further analysis.\n",
        "\n",
        "You have access to a predefined list of common English stop words stored in a Python list called stop_words. You may expand this list as needed.\n",
        "\n",
        "Once you have removed the stop words, store the cleaned data in a new variable called filtered_tweets_words_rdd.\n"
      ]
    },
    {
      "cell_type": "code",
      "execution_count": null,
      "id": "9a6f8cf2",
      "metadata": {
        "id": "9a6f8cf2",
        "outputId": "3ac061e6-53d4-4711-ffbe-41c714333964"
      },
      "outputs": [
        {
          "name": "stdout",
          "output_type": "stream",
          "text": [
            "['i', 'me', 'my', 'myself', 'we', 'our', 'ours', 'ourselves', 'you', \"you're\", \"you've\", \"you'll\", \"you'd\", 'your', 'yours', 'yourself', 'yourselves', 'he', 'him', 'his', 'himself', 'she', \"she's\", 'her', 'hers', 'herself', 'it', \"it's\", 'its', 'itself', 'they', 'them', 'their', 'theirs', 'themselves', 'what', 'which', 'who', 'whom', 'this', 'that', \"that'll\", 'these', 'those', 'am', 'is', 'are', 'was', 'were', 'be', 'been', 'being', 'have', 'has', 'had', 'having', 'do', 'does', 'did', 'doing', 'a', 'an', 'the', 'and', 'but', 'if', 'or', 'because', 'as', 'until', 'while', 'of', 'at', 'by', 'for', 'with', 'about', 'against', 'between', 'into', 'through', 'during', 'before', 'after', 'above', 'below', 'to', 'from', 'up', 'down', 'in', 'out', 'on', 'off', 'over', 'under', 'again', 'further', 'then', 'once', 'here', 'there', 'when', 'where', 'why', 'how', 'all', 'any', 'both', 'each', 'few', 'more', 'most', 'other', 'some', 'such', 'no', 'nor', 'not', 'only', 'own', 'same', 'so', 'than', 'too', 'very', 's', 't', 'can', 'will', 'just', 'don', \"don't\", 'should', \"should've\", 'now', 'd', 'll', 'm', 'o', 're', 've', 'y', 'ain', 'aren', \"aren't\", 'couldn', \"couldn't\", 'didn', \"didn't\", 'doesn', \"doesn't\", 'hadn', \"hadn't\", 'hasn', \"hasn't\", 'haven', \"haven't\", 'isn', \"isn't\", 'ma', 'mightn', \"mightn't\", 'mustn', \"mustn't\", 'needn', \"needn't\", 'shan', \"shan't\", 'shouldn', \"shouldn't\", 'wasn', \"wasn't\", 'weren', \"weren't\", 'won', \"won't\", 'wouldn', \"wouldn't\"]\n"
          ]
        },
        {
          "name": "stderr",
          "output_type": "stream",
          "text": [
            "[nltk_data] Downloading package stopwords to /Users/mahdi/nltk_data...\n",
            "[nltk_data]   Package stopwords is already up-to-date!\n"
          ]
        }
      ],
      "source": [
        "import nltk\n",
        "from nltk.corpus import stopwords\n",
        "nltk.download('stopwords')\n",
        "stop_words = stopwords.words('english')\n",
        "print(stop_words)"
      ]
    },
    {
      "cell_type": "code",
      "execution_count": null,
      "id": "05e3430b",
      "metadata": {
        "id": "05e3430b",
        "colab": {
          "base_uri": "https://localhost:8080/"
        },
        "outputId": "37ef8638-a727-4ec4-8269-f74df16248fc"
      },
      "outputs": [
        {
          "output_type": "stream",
          "name": "stderr",
          "text": [
            "[nltk_data] Downloading package stopwords to /root/nltk_data...\n",
            "[nltk_data]   Package stopwords is already up-to-date!\n"
          ]
        },
        {
          "output_type": "stream",
          "name": "stdout",
          "text": [
            "[['switchfoot', 'bummer', 'shoulda', 'got', 'david', 'carr', 'third', 'day']]\n"
          ]
        }
      ],
      "source": [
        "# Import stopwords and remove them from tweets_words_rdd\n",
        "import nltk\n",
        "from nltk.corpus import stopwords\n",
        "nltk.download('stopwords')\n",
        "stop_words = set(stopwords.words('english'))\n",
        "\n",
        "# Remove stop words from tweets_words_rdd\n",
        "filtered_tweets_words_rdd = tweets_words_rdd.map(lambda words: [word for word in words if word not in stop_words])\n",
        "\n",
        "# Show the first few elements of the filtered_tweets_words_rdd\n",
        "print(filtered_tweets_words_rdd.take(1))\n",
        "\n"
      ]
    },
    {
      "cell_type": "code",
      "execution_count": null,
      "id": "07499fbe",
      "metadata": {
        "id": "07499fbe"
      },
      "outputs": [],
      "source": [
        "# Test your solution\n",
        "filtered_words_first_entry = filtered_tweets_words_rdd.take(1)[0]\n",
        "assert len(filtered_words_first_entry) == 8\n",
        "assert filtered_words_first_entry[0] == \"switchfoot\"\n",
        "assert filtered_words_first_entry[1] == \"bummer\"\n",
        "assert \"a\" not in filtered_words_first_entry\n"
      ]
    },
    {
      "cell_type": "code",
      "execution_count": null,
      "id": "284b4a49",
      "metadata": {
        "id": "284b4a49"
      },
      "outputs": [],
      "source": [
        "### Question 2.6\n",
        "\n",
        "- What is the median tweet length (excluding stop words)?\n",
        "- Count the number of words in each tweet (excluding stop words) and display the distribution as a histogram.\n"
      ]
    },
    {
      "cell_type": "code",
      "execution_count": null,
      "id": "62b8d2be",
      "metadata": {
        "id": "62b8d2be",
        "colab": {
          "base_uri": "https://localhost:8080/",
          "height": 541
        },
        "outputId": "d0697d4e-05c9-49fa-dcf5-c7f72c21b394"
      },
      "outputs": [
        {
          "output_type": "stream",
          "name": "stderr",
          "text": [
            "[nltk_data] Downloading package stopwords to /root/nltk_data...\n",
            "[nltk_data]   Package stopwords is already up-to-date!\n"
          ]
        },
        {
          "output_type": "stream",
          "name": "stdout",
          "text": [
            "[['switchfoot', 'bummer', 'shoulda', 'got', 'david', 'carr', 'third', 'day']]\n",
            "Median tweet length (excluding stop words): 7.0\n"
          ]
        },
        {
          "output_type": "display_data",
          "data": {
            "text/plain": [
              "<Figure size 640x480 with 1 Axes>"
            ],
            "image/png": "[encoded data removed]"
          },
          "metadata": {}
        }
      ],
      "source": [
        "\n",
        "# Question 2.6\n",
        "import numpy as np\n",
        "\n",
        "# Calculate tweet lengths\n",
        "tweet_lengths_rdd = filtered_tweets_words_rdd.map(lambda words: len(words))\n",
        "\n",
        "# Collect tweet lengths to calculate median\n",
        "tweet_lengths = tweet_lengths_rdd.collect()\n",
        "median_length = np.median(tweet_lengths)\n",
        "print(f\"Median tweet length (excluding stop words): {median_length}\")\n",
        "\n",
        "# Plot histogram of tweet lengths\n",
        "import matplotlib.pyplot as plt\n",
        "\n",
        "plt.hist(tweet_lengths, bins=20, edgecolor='black')\n",
        "plt.xlabel('Tweet Length (words)')\n",
        "plt.ylabel('Frequency')\n",
        "plt.title('Distribution of Tweet Lengths (Excluding Stop Words)')\n",
        "plt.show()\n"
      ]
    },
    {
      "cell_type": "code",
      "execution_count": null,
      "id": "d40e06f6",
      "metadata": {
        "id": "d40e06f6"
      },
      "outputs": [],
      "source": [
        "# test your solution\n",
        "\n",
        "filtered_words_first_entry = filtered_tweets_words_rdd.take(1)[0]\n",
        "assert len(filtered_words_first_entry) == 8\n",
        "assert filtered_words_first_entry[0] == \"switchfoot\"\n",
        "assert filtered_words_first_entry[1] == \"bummer\"\n",
        "assert \"a\" not in filtered_words_first_entry[1]"
      ]
    },
    {
      "cell_type": "code",
      "execution_count": null,
      "id": "2896d1c4",
      "metadata": {
        "id": "2896d1c4"
      },
      "outputs": [],
      "source": [
        "### Question 2.7\n",
        "\n",
        "What are the 10 most common words (case-insensitive) used in the tweets?\n"
      ]
    },
    {
      "cell_type": "code",
      "execution_count": null,
      "id": "8ef34682",
      "metadata": {
        "id": "8ef34682",
        "colab": {
          "base_uri": "https://localhost:8080/"
        },
        "outputId": "b5354b62-bf5a-4cf1-8f79-f41e330fde01"
      },
      "outputs": [
        {
          "output_type": "stream",
          "name": "stdout",
          "text": [
            "Top 10 most common words:\n",
            "good: 85756\n",
            "day: 80164\n",
            "get: 79127\n",
            "like: 75538\n",
            "go: 71221\n",
            "today: 63840\n",
            "going: 62282\n",
            "work: 61675\n",
            "love: 60719\n",
            "got: 59076\n"
          ]
        }
      ],
      "source": [
        "### Write your code here\n",
        "from collections import Counter\n",
        "\n",
        "# Flatten the filtered_tweets_words_rdd and count word frequencies\n",
        "all_words_rdd = filtered_tweets_words_rdd.flatMap(lambda words: words)\n",
        "word_counts = all_words_rdd.map(lambda word: (word, 1)).reduceByKey(lambda a, b: a + b)\n",
        "\n",
        "# Collect word counts and find the 10 most common words\n",
        "word_counts_sorted = word_counts.sortBy(lambda x: x[1], ascending=False)\n",
        "top_10_words = word_counts_sorted.take(10)\n",
        "print(\"Top 10 most common words:\")\n",
        "for word, count in top_10_words:\n",
        "    print(f\"{word}: {count}\")\n"
      ]
    },
    {
      "cell_type": "code",
      "execution_count": null,
      "id": "be19eb92",
      "metadata": {
        "id": "be19eb92"
      },
      "outputs": [],
      "source": [
        "### Question 2.8: Sentiment Analysis with TextBlob\n",
        "\n",
        "In the cell below, an example is provided showing how to use the `TextBlob` library to estimate the polarity of sentiment in a text. While `TextBlob` works on any text, your task is to use it to compute the sentiment of the cleaned-up tweets from earlier.\n",
        "\n",
        "\n",
        "#### Instructions:\n",
        "1. Install the `TextBlob` library using:\n",
        "   ```python\n",
        "   %pip install textblob\n",
        "   ```\n",
        "2. Use `TextBlob` to calculate the sentiment polarity of each tweet. Polarity values range from -1 (negative sentiment) to 1 (positive sentiment).\n",
        "\n",
        "3. Split the tweets into sentiment categories based on their polarity score. You can define the categories as you see fit (e.g., highly negative, negative, neutral, positive and highly positive.)\n",
        "\n",
        "4. Plot the distribution of the sentiment categories using a bar chart or histogram, with the categories on the x-axis and the number of tweets falling into each category on the y-axis.\n",
        "\n",
        "#### Example:\n",
        "Here is an example of how `TextBlob` works on sample text:\n",
        "\n",
        "```python\n",
        "from textblob import TextBlob\n",
        "\n",
        "text = \"What a wonderful movie\"\n",
        "print(text, \"\\t\", TextBlob(text).sentiment.polarity)\n",
        "\n",
        "text = \"Definitely not my type of movie\"\n",
        "print(text, \"\\t\", TextBlob(text).sentiment.polarity)\n",
        "\n",
        "text = \"What a horrible movie\"\n",
        "print(text, \"\\t\", TextBlob(text).sentiment.polarity)\n",
        "\n",
        ">>> What a wonderful movie \t 1.0\n",
        ">>> Definitely not my type of movie \t 0.0\n",
        ">>> What a horrible movie \t -1.0\n",
        "```\n",
        "\n",
        "Now, apply this approach to the cleaned tweets and create a plot showing the distribution of the sentiment categories. Keep in mind that this is a large dataset, so you should leverage your understanding of big data processing techniques to efficiently compute the sentiment polarity for each tweet.\n"
      ]
    },
    {
      "cell_type": "code",
      "source": [
        "pip install textblob"
      ],
      "metadata": {
        "colab": {
          "base_uri": "https://localhost:8080/"
        },
        "id": "n1QArwGiLRWY",
        "outputId": "7cdeb3e8-052c-4dbb-d10b-9a9f21f97bce"
      },
      "id": "n1QArwGiLRWY",
      "execution_count": null,
      "outputs": [
        {
          "output_type": "stream",
          "name": "stdout",
          "text": [
            "Requirement already satisfied: textblob in /usr/local/lib/python3.10/dist-packages (0.17.1)\n",
            "Requirement already satisfied: nltk>=3.1 in /usr/local/lib/python3.10/dist-packages (from textblob) (3.8.1)\n",
            "Requirement already satisfied: click in /usr/local/lib/python3.10/dist-packages (from nltk>=3.1->textblob) (8.1.7)\n",
            "Requirement already satisfied: joblib in /usr/local/lib/python3.10/dist-packages (from nltk>=3.1->textblob) (1.4.2)\n",
            "Requirement already satisfied: regex>=2021.8.3 in /usr/local/lib/python3.10/dist-packages (from nltk>=3.1->textblob) (2024.9.11)\n",
            "Requirement already satisfied: tqdm in /usr/local/lib/python3.10/dist-packages (from nltk>=3.1->textblob) (4.66.5)\n"
          ]
        }
      ]
    },
    {
      "cell_type": "code",
      "execution_count": null,
      "id": "2d974b2d",
      "metadata": {
        "id": "2d974b2d",
        "colab": {
          "base_uri": "https://localhost:8080/",
          "height": 211
        },
        "outputId": "284ee84f-70db-47f6-db5e-d019b08891cf"
      },
      "outputs": [
        {
          "output_type": "error",
          "ename": "NameError",
          "evalue": "name 'plt' is not defined",
          "traceback": [
            "\u001b[0;31m---------------------------------------------------------------------------\u001b[0m",
            "\u001b[0;31mNameError\u001b[0m                                 Traceback (most recent call last)",
            "\u001b[0;32m<ipython-input-57-b3c59e3fa4bb>\u001b[0m in \u001b[0;36m<cell line: 33>\u001b[0;34m()\u001b[0m\n\u001b[1;32m     31\u001b[0m \u001b[0;31m# Plot the distribution of sentiment categories\u001b[0m\u001b[0;34m\u001b[0m\u001b[0;34m\u001b[0m\u001b[0m\n\u001b[1;32m     32\u001b[0m \u001b[0mcategories\u001b[0m\u001b[0;34m,\u001b[0m \u001b[0mcounts\u001b[0m \u001b[0;34m=\u001b[0m \u001b[0mzip\u001b[0m\u001b[0;34m(\u001b[0m\u001b[0;34m*\u001b[0m\u001b[0msentiment_distribution\u001b[0m\u001b[0;34m)\u001b[0m\u001b[0;34m\u001b[0m\u001b[0;34m\u001b[0m\u001b[0m\n\u001b[0;32m---> 33\u001b[0;31m \u001b[0mplt\u001b[0m\u001b[0;34m.\u001b[0m\u001b[0mbar\u001b[0m\u001b[0;34m(\u001b[0m\u001b[0mcategories\u001b[0m\u001b[0;34m,\u001b[0m \u001b[0mcounts\u001b[0m\u001b[0;34m,\u001b[0m \u001b[0mcolor\u001b[0m\u001b[0;34m=\u001b[0m\u001b[0;34m'skyblue'\u001b[0m\u001b[0;34m,\u001b[0m \u001b[0medgecolor\u001b[0m\u001b[0;34m=\u001b[0m\u001b[0;34m'black'\u001b[0m\u001b[0;34m)\u001b[0m\u001b[0;34m\u001b[0m\u001b[0;34m\u001b[0m\u001b[0m\n\u001b[0m\u001b[1;32m     34\u001b[0m \u001b[0mplt\u001b[0m\u001b[0;34m.\u001b[0m\u001b[0mxlabel\u001b[0m\u001b[0;34m(\u001b[0m\u001b[0;34m'Sentiment Category'\u001b[0m\u001b[0;34m)\u001b[0m\u001b[0;34m\u001b[0m\u001b[0;34m\u001b[0m\u001b[0m\n\u001b[1;32m     35\u001b[0m \u001b[0mplt\u001b[0m\u001b[0;34m.\u001b[0m\u001b[0mylabel\u001b[0m\u001b[0;34m(\u001b[0m\u001b[0;34m'Number of Tweets'\u001b[0m\u001b[0;34m)\u001b[0m\u001b[0;34m\u001b[0m\u001b[0;34m\u001b[0m\u001b[0m\n",
            "\u001b[0;31mNameError\u001b[0m: name 'plt' is not defined"
          ]
        }
      ],
      "source": [
        "### Write your code here\n",
        "\n",
        "# Question 2.8: Sentiment Analysis with TextBlob\n",
        "from textblob import TextBlob\n",
        "\n",
        "# Function to compute sentiment polarity of each tweet\n",
        "def compute_sentiment(text):\n",
        "    return TextBlob(text).sentiment.polarity\n",
        "\n",
        "# Apply sentiment analysis to each tweet\n",
        "sentiments_rdd = clean_tweets_rdd.map(compute_sentiment)\n",
        "\n",
        "# Categorize sentiments\n",
        "def categorize_sentiment(polarity):\n",
        "    if polarity < -0.5:\n",
        "        return 'Highly Negative'\n",
        "    elif -0.5 <= polarity < 0:\n",
        "        return 'Negative'\n",
        "    elif polarity == 0:\n",
        "        return 'Neutral'\n",
        "    elif 0 < polarity <= 0.5:\n",
        "        return 'Positive'\n",
        "    else:\n",
        "        return 'Highly Positive'\n",
        "\n",
        "sentiment_categories_rdd = sentiments_rdd.map(categorize_sentiment)\n",
        "\n",
        "# Count the number of tweets in each sentiment category\n",
        "sentiment_distribution = sentiment_categories_rdd.map(lambda x: (x, 1)).reduceByKey(lambda a, b: a + b).collect()\n",
        "\n",
        "# Plot the distribution of sentiment categories\n",
        "categories, counts = zip(*sentiment_distribution)\n",
        "plt.bar(categories, counts, color='skyblue', edgecolor='black')\n",
        "plt.xlabel('Sentiment Category')\n",
        "plt.ylabel('Number of Tweets')\n",
        "plt.title('Distribution of Sentiment Categories')\n",
        "plt.xticks(rotation=45)\n",
        "plt.show()"
      ]
    },
    {
      "cell_type": "code",
      "execution_count": null,
      "id": "f3f7012b",
      "metadata": {
        "id": "f3f7012b"
      },
      "outputs": [],
      "source": [
        "# No asserts provided for this question"
      ]
    },
    {
      "cell_type": "markdown",
      "id": "c0852b16",
      "metadata": {
        "id": "c0852b16"
      },
      "source": [
        "### Question 3: Working With Spark DataFrames\n",
        "\n",
        "In this section, we'll be using Spark DataFrames to explore two datasets:\n",
        "\n",
        "1. **Dataset: `tweet_info.csv`**\n",
        "   This file provides a snapshot of tweet activity over a month. Key details include:\n",
        "   - `TweetID`: The unique ID of the tweet.\n",
        "   - `UserID`: The unique ID of the user who tweeted.\n",
        "   - `FirstRetweet`: The time when the tweet received its first retweet.\n",
        "   - `PostTime`: The time when the tweet was posted.\n",
        "   - `Hashtags`: The hashtags used in the tweet.\n",
        "   - `Retweets`: The total number of retweets.\n",
        "   - `Likes`: The total number of likes.\n",
        "   - `DayOfWeek`: The day of the week the tweet was posted.\n",
        "   - `IsPromoted`: Indicates if the tweet was promoted (0 for no, 1 for yes).\n",
        "\n",
        "2. **Dataset: `user_info.csv`**\n",
        "   This file contains information about the users:\n",
        "   - `UserID`: The unique ID of the user.\n",
        "   - `Username`: The user's display name.\n",
        "   - `Followers`: The number of followers the user has.\n",
        "   - `Following`: The number of accounts the user follows.\n",
        "   - `AccountCreationDate`: The date the user created their account.   \n",
        "\n",
        "one has user id one has user id and user name. you are supposed to use join"
      ]
    },
    {
      "cell_type": "markdown",
      "id": "1d8a4254",
      "metadata": {
        "id": "1d8a4254"
      },
      "source": [
        "### Question 3.1\n",
        "\n",
        "Load `tweet_info.csv` into a Spark `DataFrame` called `tweet_data`. The zipped archive containing the file `tweet_info.csv` can be downloaded [here](https://www.dropbox.com/s/rdvyd2endi7fwsa/tweet_info.zip?dl=1)."
      ]
    },
    {
      "cell_type": "code",
      "execution_count": null,
      "id": "97d608f9",
      "metadata": {
        "id": "97d608f9"
      },
      "outputs": [],
      "source": [
        "### Write your code here\n",
        "from pyspark.sql import SparkSession\n",
        "\n",
        "# Initialize Spark session using the provided method\n",
        "spark = SparkSession(sc)\n",
        "\n",
        "# Load tweet_info.csv into a Spark DataFrame called tweet_data\n",
        "tweet_data = spark.read.csv(\"user_info.csv\", header=True, inferSchema=True)"
      ]
    },
    {
      "cell_type": "code",
      "execution_count": null,
      "id": "8890c042",
      "metadata": {
        "id": "8890c042"
      },
      "outputs": [],
      "source": [
        "# Test your solution\n",
        "assert type(tweet_data) is pyspark.sql.dataframe.DataFrame\n"
      ]
    },
    {
      "cell_type": "code",
      "execution_count": null,
      "id": "3aa66cc4",
      "metadata": {
        "id": "3aa66cc4"
      },
      "outputs": [],
      "source": [
        "### Question 3.2\n",
        "\n",
        "How many unique users are in the tweet_data DataFrame? Keep in mind that a user may have more than one tweet in the file. Save the result in a variable called nb_unique_users.\n"
      ]
    },
    {
      "cell_type": "code",
      "execution_count": null,
      "id": "2f00b4c2",
      "metadata": {
        "id": "2f00b4c2",
        "colab": {
          "base_uri": "https://localhost:8080/"
        },
        "outputId": "d92b415c-a4f0-480c-8153-18b3021eaeba"
      },
      "outputs": [
        {
          "output_type": "stream",
          "name": "stdout",
          "text": [
            "Number of unique users: 1000\n"
          ]
        }
      ],
      "source": [
        "### Write your code here\n",
        "# Count the number of unique users\n",
        "nb_unique_users = tweet_data.select(\"UserID\").distinct().count()\n",
        "\n",
        "# Print the result\n",
        "print(f\"Number of unique users: {nb_unique_users}\")"
      ]
    },
    {
      "cell_type": "code",
      "execution_count": null,
      "id": "ae1b6e41",
      "metadata": {
        "id": "ae1b6e41"
      },
      "outputs": [],
      "source": [
        "# Test your code\n",
        "assert type(nb_unique_users) is int\n",
        "assert nb_unique_users <= 1000\n",
        "assert 0 < nb_unique_users"
      ]
    },
    {
      "cell_type": "code",
      "execution_count": null,
      "id": "d238ac13",
      "metadata": {
        "id": "d238ac13",
        "colab": {
          "base_uri": "https://localhost:8080/"
        },
        "outputId": "59529940-bfff-47b9-e14c-e66245a255cb"
      },
      "outputs": [
        {
          "output_type": "stream",
          "name": "stdout",
          "text": [
            "+----------------+----------+\n",
            "|        Username|NbPromoted|\n",
            "+----------------+----------+\n",
            "|lambertalexander|        11|\n",
            "|           brios|        10|\n",
            "|     kelseyclark|        10|\n",
            "|     colinwillis|        10|\n",
            "|         jayrose|        10|\n",
            "|     fishermegan|         9|\n",
            "|       timothy64|         9|\n",
            "| hernandezmartin|         9|\n",
            "|       qmcdonald|         8|\n",
            "|   michellebrown|         8|\n",
            "|     richardcole|         8|\n",
            "|     christian85|         8|\n",
            "|         staylor|         7|\n",
            "|         jenna83|         7|\n",
            "|            zlee|         7|\n",
            "|           xwebb|         7|\n",
            "|   michaelwalter|         7|\n",
            "|          fred87|         7|\n",
            "|       michael23|         7|\n",
            "|        halljohn|         7|\n",
            "+----------------+----------+\n",
            "only showing top 20 rows\n",
            "\n"
          ]
        }
      ],
      "source": [
        "# Load the datasets\n",
        "tweet_info_df = spark.read.csv('tweet_info.csv', header=True, inferSchema=True)\n",
        "user_info_df = spark.read.csv('user_info.csv', header=True, inferSchema=True)\n",
        "\n",
        "# Join tweet_info_df with user_info_df on UserID to get Username\n",
        "tweets_with_usernames_df = tweet_info_df.join(user_info_df, on='UserID')\n",
        "\n",
        "# Filter for promoted tweets (IsPromoted = 1)\n",
        "promoted_tweets_df = tweets_with_usernames_df.filter(tweets_with_usernames_df.IsPromoted == 1)\n",
        "\n",
        "# Group by Username and count the number of promoted tweets\n",
        "promoted_count_df = promoted_tweets_df.groupBy('Username').count()\n",
        "\n",
        "# Rename the count column to NbPromoted\n",
        "promoted_count_df = promoted_count_df.withColumnRenamed('count', 'NbPromoted')\n",
        "\n",
        "# Sort the results by NbPromoted in descending order\n",
        "promoted_count_df = promoted_count_df.orderBy(promoted_count_df.NbPromoted.desc())\n",
        "\n",
        "# Show the final result\n",
        "promoted_count_df.show()\n"
      ]
    },
    {
      "cell_type": "code",
      "execution_count": null,
      "id": "7e2dfdd7",
      "metadata": {
        "id": "7e2dfdd7"
      },
      "outputs": [],
      "source": [
        "### Write your code here"
      ]
    },
    {
      "cell_type": "code",
      "execution_count": null,
      "id": "b8077e33",
      "metadata": {
        "id": "b8077e33"
      },
      "outputs": [],
      "source": [
        "# No asserts provided for this question"
      ]
    },
    {
      "cell_type": "markdown",
      "id": "9000f453",
      "metadata": {
        "id": "9000f453"
      },
      "source": [
        "### Question 3.4\n",
        "\n",
        "Determine how many tweets each user had that were retweeted within 24 hours of posting. Associate this count with the respective `Username`, which can be found in the `user_info.csv` file. The zipped archive containing the file `user_info.csv` can be downloaded [here](https://www.dropbox.com/s/rdvyd2endi7fwsa/tweet_info.zip?dl=1).\n",
        "\n",
        "The final output should display each user's `Username` alongside the count of their tweets that were retweeted within 24 hours.\n",
        "\n",
        "Store the result in a variable called `tweets_count`. This variable should contain two columns: `Username` and `CountRetweeted24h`, and should be sorted by `CountRetweeted24h` in decreasing order.\n"
      ]
    },
    {
      "cell_type": "code",
      "execution_count": null,
      "id": "0b0de0e8",
      "metadata": {
        "id": "0b0de0e8",
        "colab": {
          "base_uri": "https://localhost:8080/"
        },
        "outputId": "f48f429a-da84-44bc-ff66-a143fa03a78e"
      },
      "outputs": [
        {
          "output_type": "stream",
          "name": "stdout",
          "text": [
            "+----------------+-----------------+\n",
            "|        Username|CountRetweeted24h|\n",
            "+----------------+-----------------+\n",
            "|         jenna83|                8|\n",
            "|         susan47|                7|\n",
            "|lambertalexander|                7|\n",
            "|     kelseyclark|                7|\n",
            "|           brios|                6|\n",
            "|         ohoward|                6|\n",
            "|     colinwillis|                6|\n",
            "|   williamsdavid|                6|\n",
            "|      lindawoods|                6|\n",
            "|         rbarron|                6|\n",
            "|        proberts|                6|\n",
            "|         jayrose|                6|\n",
            "|      carolweeks|                5|\n",
            "|    ramosrebecca|                5|\n",
            "|      virginia90|                5|\n",
            "|     trevorbrown|                5|\n",
            "|         wayne46|                5|\n",
            "|     christian85|                5|\n",
            "|         staylor|                4|\n",
            "|       fmartinez|                4|\n",
            "+----------------+-----------------+\n",
            "only showing top 20 rows\n",
            "\n"
          ]
        }
      ],
      "source": [
        "# write your code here\n",
        "from pyspark.sql import functions as F\n",
        "\n",
        "# Load the datasets\n",
        "tweet_info_df = spark.read.csv('tweet_info.csv', header=True, inferSchema=True)\n",
        "user_info_df = spark.read.csv('user_info.csv', header=True, inferSchema=True)\n",
        "\n",
        "# Convert timestamps to Unix time and calculate the difference in hours\n",
        "tweets_with_time_diff_df = tweet_info_df.withColumn(\n",
        "    'TimeDiffHours',\n",
        "    (F.unix_timestamp('FirstRetweet') - F.unix_timestamp('ActualPostTime')) / 3600\n",
        ")\n",
        "\n",
        "# Filter tweets where the TimeDiffHours is <= 24\n",
        "tweets_within_24h_df = tweets_with_time_diff_df.filter(tweets_with_time_diff_df.TimeDiffHours <= 24)\n",
        "\n",
        "# Join the filtered tweets with user_info_df to get the Username\n",
        "tweets_with_usernames_df = tweets_within_24h_df.join(user_info_df, on='UserID')\n",
        "\n",
        "# Group by Username and count the number of tweets retweeted within 24 hours\n",
        "tweets_count = tweets_with_usernames_df.groupBy('Username').count()\n",
        "\n",
        "# Rename the count column to CountRetweeted24h\n",
        "tweets_count = tweets_count.withColumnRenamed('count', 'CountRetweeted24h')\n",
        "\n",
        "# Sort the results by CountRetweeted24h in decreasing order\n",
        "tweets_count = tweets_count.orderBy(tweets_count.CountRetweeted24h.desc())\n",
        "\n",
        "# Show the final result\n",
        "tweets_count.show()\n"
      ]
    },
    {
      "cell_type": "code",
      "execution_count": null,
      "id": "fcacb31d",
      "metadata": {
        "id": "fcacb31d"
      },
      "outputs": [],
      "source": [
        "# test your code\n",
        "assert tweets_count.take(1)[0][0] == 'jenna83'\n",
        "assert tweets_count.take(1)[0][1] == 8"
      ]
    },
    {
      "cell_type": "code",
      "execution_count": null,
      "id": "0f2fa190",
      "metadata": {
        "id": "0f2fa190",
        "colab": {
          "base_uri": "https://localhost:8080/"
        },
        "outputId": "6dcf60fd-3636-41f4-d986-7be7b4e8cffc"
      },
      "outputs": [
        {
          "output_type": "stream",
          "name": "stdout",
          "text": [
            "+----------------+---------+-----------------+\n",
            "|        Username|DayOfWeek|CountRetweeted24h|\n",
            "+----------------+---------+-----------------+\n",
            "|       abuchanan|   Sunday|                3|\n",
            "|         ahughes|Wednesday|                1|\n",
            "|         ahughes|   Friday|                2|\n",
            "|     baileyerica|Wednesday|                1|\n",
            "|     baileyerica| Saturday|                2|\n",
            "|     baileyerica|   Sunday|                1|\n",
            "|      benjamin14|  Tuesday|                1|\n",
            "|      benjamin14| Thursday|                1|\n",
            "|           brios| Thursday|                1|\n",
            "|           brios|   Friday|                3|\n",
            "|           brios| Saturday|                1|\n",
            "|           brios|   Sunday|                1|\n",
            "|    brookstamara|   Monday|                1|\n",
            "|    brookstamara| Thursday|                1|\n",
            "|    brookstamara|   Friday|                1|\n",
            "|buchanankimberly|   Monday|                1|\n",
            "|buchanankimberly|   Sunday|                2|\n",
            "|candacerodriguez|   Monday|                1|\n",
            "|candacerodriguez| Thursday|                1|\n",
            "|      carolweeks|   Monday|                1|\n",
            "+----------------+---------+-----------------+\n",
            "only showing top 20 rows\n",
            "\n"
          ]
        }
      ],
      "source": [
        "### Question 3.5\n",
        "\n",
        "#Analyze tweeting patterns across different days of the week. Specifically, for each day, determine how many of each user's tweets were retweeted within 24 hours of posting. For example, if a tweet was posted on Monday evening and retweeted before the same time on Tuesday, it should be counted toward Monday's total for that user.\n",
        "\n",
        "#**Hint:** Use the `date_format` function to extract the day of the week from a timestamp, using the format 'EEEE' for the full day name. Also, to determine if a tweet was retweeted within 24 hours, compare the `PostTime` with the `FirstRetweet` time and ensure the retweet occurred within 24 hours.\n",
        "\n",
        "#Save your results in a variable called `result`, which should have three columns: `Username`, `DayOfWeek`, and `CountRetweeted24h`. Sort the results by `Username` first, and then by `DayOfWeek` (Monday to Sunday).\n",
        "\n",
        "from pyspark.sql import functions as F\n",
        "\n",
        "# Load the datasets\n",
        "tweet_info_df = spark.read.csv('tweet_info.csv', header=True, inferSchema=True)\n",
        "user_info_df = spark.read.csv('user_info.csv', header=True, inferSchema=True)\n",
        "\n",
        "# Convert timestamps to Unix time and calculate the difference in hours\n",
        "tweets_with_time_diff_df = tweet_info_df.withColumn(\n",
        "    'TimeDiffHours',\n",
        "    (F.unix_timestamp('FirstRetweet') - F.unix_timestamp('ActualPostTime')) / 3600\n",
        ")\n",
        "\n",
        "# Filter tweets where the TimeDiffHours is <= 24 (retweeted within 24 hours)\n",
        "tweets_within_24h_df = tweets_with_time_diff_df.filter(tweets_with_time_diff_df.TimeDiffHours <= 24)\n",
        "\n",
        "# Extract the day of the week from the ActualPostTime\n",
        "tweets_with_day_df = tweets_within_24h_df.withColumn(\n",
        "    'DayOfWeek', F.date_format('ActualPostTime', 'EEEE')\n",
        ")\n",
        "\n",
        "# Join the tweets with the user information to get the Username\n",
        "tweets_with_usernames_df = tweets_with_day_df.join(user_info_df, on='UserID')\n",
        "\n",
        "# Group by Username and DayOfWeek and count the number of tweets retweeted within 24 hours\n",
        "result = tweets_with_usernames_df.groupBy('Username', 'DayOfWeek').count()\n",
        "\n",
        "# Rename the count column to CountRetweeted24h\n",
        "result = result.withColumnRenamed('count', 'CountRetweeted24h')\n",
        "\n",
        "# Sort the results by Username and DayOfWeek (Monday to Sunday)\n",
        "result = result.orderBy('Username', F.expr(\n",
        "    \"CASE DayOfWeek WHEN 'Monday' THEN 1 WHEN 'Tuesday' THEN 2 WHEN 'Wednesday' THEN 3 \"\n",
        "    \"WHEN 'Thursday' THEN 4 WHEN 'Friday' THEN 5 WHEN 'Saturday' THEN 6 WHEN 'Sunday' THEN 7 END\"\n",
        "))\n",
        "\n",
        "# Show the final result\n",
        "result.show()\n"
      ]
    },
    {
      "cell_type": "code",
      "execution_count": null,
      "id": "5b3302d2",
      "metadata": {
        "id": "5b3302d2"
      },
      "outputs": [],
      "source": [
        "# write your code here"
      ]
    },
    {
      "cell_type": "code",
      "execution_count": null,
      "id": "b1742d13",
      "metadata": {
        "id": "b1742d13"
      },
      "outputs": [],
      "source": [
        "# No asserts provided for this question"
      ]
    },
    {
      "cell_type": "markdown",
      "id": "187f52cd",
      "metadata": {
        "id": "187f52cd"
      },
      "source": [
        "### Question 4 (BONUS 5pts)\n",
        "\n",
        "In the most recent pracitical, we explored how to sample data points in a two-dimensional space by dividing the space into grid cells, identifying the grid cell each point belongs to, and then selectively sampling a fixed number of points from each cell. For this task, you will extend this approach to a three-dimensional space and implement using the PySpark framework, follow these steps:\n",
        "\n",
        "\t1.\tCreate a dataset of at least 1,000,000 points, where each point is represented by its coordinates in 3D space.\n",
        "\t2.\tInstead of using simple (x, y) coordinates to create the grid, define a grid based on an arbitrary vector that generates the first axis -- don not pick , and use an orthogonal vector to generate the second axis. You will need to determine how to create the third orthogonal axis to complete the grid.\n",
        "      * When selecting the first vector to define your grid, do not choose vectors that are aligned with the coordinate axes of the Euclidean space. In other words, avoid vectors like (a, 0, 0), (0, b, 0), or (0, 0, c), which correspond directly to the x, y, or z axes.\n",
        "\t3.\tFor each grid cell, sample any fixed number of points you deem reasonable.\n",
        "\t4.\tAs we practiced in class, develop your solution incrementally. Start by generating the points, then develop the logic for assigning them to the appropriate grid cells, and finally implement the selective sampling process.\n",
        "\n",
        "Hints:\n",
        "\t•\tUse PySpark’s transformation functions like map, filter, and groupBy to help manage the large dataset and grid sampling efficiently.\n",
        "\n"
      ]
    },
    {
      "cell_type": "code",
      "execution_count": null,
      "id": "639fdde1",
      "metadata": {
        "id": "639fdde1"
      },
      "outputs": [],
      "source": [
        "# write your code here\n",
        "\n",
        "from pyspark.sql import SparkSession\n",
        "from pyspark.sql import functions as F\n",
        "\n",
        "# Initialize Spark session\n",
        "spark = SparkSession.builder.appName('3DGridSampling').getOrCreate()\n",
        "\n",
        "# Generate 1,000,000 random points in 3D space\n",
        "points_df = spark.range(1000000).select(\n",
        "    F.rand().alias('x'),\n",
        "    F.rand().alias('y'),\n",
        "    F.rand().alias('z')\n",
        ")\n",
        "\n"
      ]
    }
  ],
  "metadata": {
    "kernelspec": {
      "display_name": "Python 3 (ipykernel)",
      "language": "python",
      "name": "python3"
    },
    "language_info": {
      "codemirror_mode": {
        "name": "ipython",
        "version": 3
      },
      "file_extension": ".py",
      "mimetype": "text/x-python",
      "name": "python",
      "nbconvert_exporter": "python",
      "pygments_lexer": "ipython3",
      "version": "3.9.16"
    },
    "colab": {
      "provenance": [],
      "include_colab_link": true
    }
  },
  "nbformat": 4,
  "nbformat_minor": 5
}